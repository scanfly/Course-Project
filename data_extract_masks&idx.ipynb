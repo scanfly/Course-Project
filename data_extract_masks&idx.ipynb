{
 "cells": [
  {
   "cell_type": "code",
   "execution_count": 1,
   "metadata": {},
   "outputs": [],
   "source": [
    "from os import walk\n",
    "f = []\n",
    "for (dirpath, dirnames, filenames) in walk(\".\"):\n",
    "    if \"PET\" in dirpath and \"RTstruct\" not in dirpath and \"RTStruct\" not in dirpath and \"AC\" in dirpath and \"ipy\" not in dirpath:\n",
    "        f.append(dirpath)\n",
    "f = sorted(f)"
   ]
  },
  {
   "cell_type": "code",
   "execution_count": 2,
   "metadata": {},
   "outputs": [],
   "source": [
    "k = []\n",
    "for (dirpath, dirnames, filenames) in walk(\".\"):\n",
    "    if \"RTStructPET\" in dirpath or \"RTstructPET\" in dirpath and \"ipy\" not in dirpath:\n",
    "        k.append(dirpath)\n",
    "k = sorted(k)"
   ]
  },
  {
   "cell_type": "code",
   "execution_count": 3,
   "metadata": {},
   "outputs": [],
   "source": [
    "idx_list = list()\n",
    "masks_list = list()"
   ]
  },
  {
   "cell_type": "code",
   "execution_count": 5,
   "metadata": {},
   "outputs": [
    {
     "name": "stderr",
     "output_type": "stream",
     "text": [
      "IOPub data rate exceeded.\n",
      "The notebook server will temporarily stop sending output\n",
      "to the client in order to avoid crashing it.\n",
      "To change this limit, set the config variable\n",
      "`--NotebookApp.iopub_data_rate_limit`.\n",
      "\n",
      "Current values:\n",
      "NotebookApp.iopub_data_rate_limit=1000000.0 (bytes/sec)\n",
      "NotebookApp.rate_limit_window=3.0 (secs)\n",
      "\n"
     ]
    }
   ],
   "source": [
    "from rt_utils import RTStructBuilder\n",
    "import matplotlib.pyplot as plt\n",
    "import numpy as np\n",
    "\n",
    "for (d_path, rt_path) in zip(f,k):\n",
    "    rtstruct = RTStructBuilder.create_from(\n",
    "      dicom_series_path=d_path, \n",
    "      rt_struct_path= rt_path+\"/1-1.dcm\"\n",
    "    )\n",
    "    if \"GTV_Mass\" not in rtstruct.get_roi_names():\n",
    "        print(d_path)\n",
    "    else:\n",
    "        print(rtstruct.series_data)\n",
    "        mask = rtstruct.get_roi_mask_by_name(\"GTV_Mass\")\n",
    "        break\n",
    "        print(mask.shape)\n",
    "        idx = np.unique(np.where(mask>0)[2])\n",
    "        new_idx = list()\n",
    "        mask_list = list()\n",
    "        for i in idx:\n",
    "            if (np.sum(mask[:,:,i])>=50):\n",
    "                mask_list.append(mask[:,:,i])\n",
    "                new_idx.append(i)\n",
    "   \n",
    "        idx_list.append(new_idx)\n",
    "#         masks_list.append(mask_list)\n",
    "# print(rtstruct.get_roi_names())\n",
    "# mask = rtstruct.get_roi_mask_by_name(\"GTV_Mass\")\n",
    "# \n",
    "\n",
    "# print(mask.shape)\n",
    "\n",
    "# idx = np.unique(np.where(mask>0)[2])\n",
    "\n",
    "# print(idx)\n",
    "# import cv2\n",
    "# plt.imshow(cv2.resize(mask[:,:,idx[15]].astype(np.uint8),(128,128),interpolation=cv2.INTER_CUBIC))"
   ]
  },
  {
   "cell_type": "code",
   "execution_count": 5,
   "metadata": {},
   "outputs": [
    {
     "name": "stderr",
     "output_type": "stream",
     "text": [
      "/Users/chengshen/opt/anaconda3/lib/python3.7/site-packages/ipykernel_launcher.py:1: VisibleDeprecationWarning: Creating an ndarray from ragged nested sequences (which is a list-or-tuple of lists-or-tuples-or ndarrays with different lengths or shapes) is deprecated. If you meant to do this, you must specify 'dtype=object' when creating the ndarray\n",
      "  \"\"\"Entry point for launching an IPython kernel.\n"
     ]
    }
   ],
   "source": [
    "np.save(\"idx_list\", np.array(idx_list))"
   ]
  },
  {
   "cell_type": "code",
   "execution_count": 6,
   "metadata": {},
   "outputs": [],
   "source": [
    "idx_array = np.load(\"idx_list.npy\",allow_pickle=True)"
   ]
  },
  {
   "cell_type": "code",
   "execution_count": 8,
   "metadata": {},
   "outputs": [
    {
     "name": "stderr",
     "output_type": "stream",
     "text": [
      "/Users/chengshen/opt/anaconda3/lib/python3.7/site-packages/ipykernel_launcher.py:1: VisibleDeprecationWarning: Creating an ndarray from ragged nested sequences (which is a list-or-tuple of lists-or-tuples-or ndarrays with different lengths or shapes) is deprecated. If you meant to do this, you must specify 'dtype=object' when creating the ndarray\n",
      "  \"\"\"Entry point for launching an IPython kernel.\n"
     ]
    }
   ],
   "source": [
    "np.save(\"masks\", np.array(masks_list))"
   ]
  },
  {
   "cell_type": "code",
   "execution_count": 9,
   "metadata": {},
   "outputs": [],
   "source": [
    "masks_array = np.load(\"masks.npy\",allow_pickle=True)"
   ]
  },
  {
   "cell_type": "code",
   "execution_count": null,
   "metadata": {},
   "outputs": [],
   "source": []
  }
 ],
 "metadata": {
  "kernelspec": {
   "display_name": "Python 3",
   "language": "python",
   "name": "python3"
  },
  "language_info": {
   "codemirror_mode": {
    "name": "ipython",
    "version": 3
   },
   "file_extension": ".py",
   "mimetype": "text/x-python",
   "name": "python",
   "nbconvert_exporter": "python",
   "pygments_lexer": "ipython3",
   "version": "3.7.6"
  }
 },
 "nbformat": 4,
 "nbformat_minor": 4
}
