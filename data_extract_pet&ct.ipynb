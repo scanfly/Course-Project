{
 "cells": [
  {
   "cell_type": "code",
   "execution_count": 1,
   "metadata": {},
   "outputs": [],
   "source": [
    "import SimpleITK as sitk"
   ]
  },
  {
   "cell_type": "code",
   "execution_count": 2,
   "metadata": {},
   "outputs": [],
   "source": [
    "def loadFile(filename):\n",
    "    ds = sitk.ReadImage(filename)\n",
    "    img_array = sitk.GetArrayFromImage(ds)\n",
    "    return img_array"
   ]
  },
  {
   "cell_type": "code",
   "execution_count": 3,
   "metadata": {},
   "outputs": [],
   "source": [
    "from os import walk\n",
    "pet = []\n",
    "for (dirpath, dirnames, filenames) in walk(\".\"):\n",
    "    if \"PET\" in dirpath and \"RTstruct\" not in dirpath and \"RTStruct\" not in dirpath and \"AC\" in dirpath and \"ipy\" not in dirpath:\n",
    "        pet.append(dirpath)\n",
    "pet = sorted(pet)"
   ]
  },
  {
   "cell_type": "code",
   "execution_count": 4,
   "metadata": {},
   "outputs": [],
   "source": [
    "from os import walk\n",
    "ct = []\n",
    "for (dirpath, dirnames, filenames) in walk(\".\"):\n",
    "    if \"PET\" in dirpath and \"RTstruct\" not in dirpath and \"RTStruct\" not in dirpath and \"AC\" not in dirpath and \"ipy\" not in dirpath and \"0000\" in dirpath:\n",
    "        ct.append(dirpath)\n",
    "ct = sorted(ct)"
   ]
  },
  {
   "cell_type": "code",
   "execution_count": 5,
   "metadata": {},
   "outputs": [],
   "source": [
    "del ct[45]\n",
    "del pet[45]"
   ]
  },
  {
   "cell_type": "code",
   "execution_count": 6,
   "metadata": {},
   "outputs": [],
   "source": [
    "import numpy as np\n",
    "idx_array = np.load(\"idx_list.npy\",allow_pickle=True)"
   ]
  },
  {
   "cell_type": "code",
   "execution_count": 7,
   "metadata": {},
   "outputs": [],
   "source": [
    "from pydicom import dcmread"
   ]
  },
  {
   "cell_type": "code",
   "execution_count": 8,
   "metadata": {},
   "outputs": [],
   "source": [
    "import matplotlib.pyplot as plt\n",
    "import cv2\n",
    "from os import listdir\n",
    "from os.path import isfile, join\n",
    "\n",
    "ct_list = list()\n",
    "pet_list = list()\n",
    "count = 0\n",
    "for ct_path, pet_path in zip(ct, pet):\n",
    "    ct_file_list = sorted([f for f in listdir(ct_path) if isfile(join(ct_path, f))], reverse=True)\n",
    "    \n",
    "    pet_file_list = sorted([f for f in listdir(pet_path) if isfile(join(pet_path, f))], reverse=True)\n",
    "#     print(len(ct_file_list),len(pet_file_list))\n",
    "#     series_data = []\n",
    "#     for f in pet_file_list:\n",
    "#         series_data.append([f,dcmread(pet_path+\"/\"+f)])\n",
    "#     series_data.sort(key=lambda ds: ds[1].SliceLocation, reverse=False)\n",
    "\n",
    "    ct_sub_list = list()\n",
    "    pet_sub_list = list()\n",
    "    for idx in idx_array[count]:\n",
    "        \n",
    "        pet_img_path = pet_file_list[idx]\n",
    "        \n",
    "        if \"dcm\" in pet_img_path:\n",
    "            pet_img = loadFile(pet_path + \"/\"+pet_img_path)            \n",
    "#             img = cv2.resize(img.reshape(512,512).astype('float32'),(128,128))\n",
    "            pet_sub_list.append(pet_img.reshape(128,128).astype('float32'))\n",
    "\n",
    "        ct_img_path = ct_file_list[idx]\n",
    "        if \"dcm\" in ct_img_path:           \n",
    "            ct_img = loadFile(ct_path + \"/\"+ct_img_path)           \n",
    "            ct_img = cv2.resize(ct_img.reshape(512,512).astype('float32'),(128,128))\n",
    "            ct_sub_list.append(ct_img)\n",
    "    ct_list.append(ct_sub_list)\n",
    "    pet_list.append(pet_sub_list)\n",
    "    count += 1"
   ]
  },
  {
   "cell_type": "code",
   "execution_count": 9,
   "metadata": {},
   "outputs": [
    {
     "name": "stderr",
     "output_type": "stream",
     "text": [
      "/Users/chengshen/opt/anaconda3/lib/python3.7/site-packages/ipykernel_launcher.py:1: VisibleDeprecationWarning: Creating an ndarray from ragged nested sequences (which is a list-or-tuple of lists-or-tuples-or ndarrays with different lengths or shapes) is deprecated. If you meant to do this, you must specify 'dtype=object' when creating the ndarray\n",
      "  \"\"\"Entry point for launching an IPython kernel.\n",
      "/Users/chengshen/opt/anaconda3/lib/python3.7/site-packages/ipykernel_launcher.py:2: VisibleDeprecationWarning: Creating an ndarray from ragged nested sequences (which is a list-or-tuple of lists-or-tuples-or ndarrays with different lengths or shapes) is deprecated. If you meant to do this, you must specify 'dtype=object' when creating the ndarray\n",
      "  \n"
     ]
    }
   ],
   "source": [
    "np.save(\"ct\", np.array(ct_list))\n",
    "np.save(\"pet\", np.array(pet_list))"
   ]
  },
  {
   "cell_type": "code",
   "execution_count": 10,
   "metadata": {},
   "outputs": [],
   "source": [
    "idx_array = np.load(\"idx_list.npy\",allow_pickle=True)"
   ]
  },
  {
   "cell_type": "code",
   "execution_count": 11,
   "metadata": {},
   "outputs": [],
   "source": [
    "masks_array  =  np.load(\"masks.npy\",allow_pickle=True)"
   ]
  },
  {
   "cell_type": "code",
   "execution_count": 12,
   "metadata": {},
   "outputs": [],
   "source": [
    "ct_array = np.load(\"ct.npy\",allow_pickle=True)"
   ]
  },
  {
   "cell_type": "code",
   "execution_count": 13,
   "metadata": {},
   "outputs": [],
   "source": [
    "pet_array = np.load(\"pet.npy\",allow_pickle=True)"
   ]
  },
  {
   "cell_type": "code",
   "execution_count": 43,
   "metadata": {},
   "outputs": [
    {
     "data": {
      "text/plain": [
       "<matplotlib.image.AxesImage at 0x7f96d3596e50>"
      ]
     },
     "execution_count": 43,
     "metadata": {},
     "output_type": "execute_result"
    },
    {
     "data": {
      "image/png": "[encoded data removed]",
      "text/plain": [
       "<Figure size 432x288 with 1 Axes>"
      ]
     },
     "metadata": {
      "needs_background": "light"
     },
     "output_type": "display_data"
    }
   ],
   "source": [
    "import matplotlib.pyplot as plt\n",
    "plt.imshow(masks_array[15][10], cmap=\"gray\")"
   ]
  },
  {
   "cell_type": "code",
   "execution_count": 44,
   "metadata": {},
   "outputs": [
    {
     "data": {
      "text/plain": [
       "<matplotlib.image.AxesImage at 0x7f96d36ca490>"
      ]
     },
     "execution_count": 44,
     "metadata": {},
     "output_type": "execute_result"
    },
    {
     "data": {
      "image/png": "[encoded data removed]",
      "text/plain": [
       "<Figure size 432x288 with 1 Axes>"
      ]
     },
     "metadata": {
      "needs_background": "light"
     },
     "output_type": "display_data"
    }
   ],
   "source": [
    "plt.imshow(pet_array[15][10],cmap=\"gray\")"
   ]
  },
  {
   "cell_type": "code",
   "execution_count": 46,
   "metadata": {},
   "outputs": [
    {
     "data": {
      "text/plain": [
       "<matplotlib.image.AxesImage at 0x7f96d2913e10>"
      ]
     },
     "execution_count": 46,
     "metadata": {},
     "output_type": "execute_result"
    },
    {
     "data": {
      "image/png": "[encoded data removed]",
      "text/plain": [
       "<Figure size 432x288 with 1 Axes>"
      ]
     },
     "metadata": {
      "needs_background": "light"
     },
     "output_type": "display_data"
    }
   ],
   "source": [
    "plt.imshow(ct_array[15][10],cmap=\"gray\")"
   ]
  },
  {
   "cell_type": "code",
   "execution_count": null,
   "metadata": {},
   "outputs": [],
   "source": []
  }
 ],
 "metadata": {
  "kernelspec": {
   "display_name": "Python 3",
   "language": "python",
   "name": "python3"
  },
  "language_info": {
   "codemirror_mode": {
    "name": "ipython",
    "version": 3
   },
   "file_extension": ".py",
   "mimetype": "text/x-python",
   "name": "python",
   "nbconvert_exporter": "python",
   "pygments_lexer": "ipython3",
   "version": "3.7.6"
  }
 },
 "nbformat": 4,
 "nbformat_minor": 4
}
